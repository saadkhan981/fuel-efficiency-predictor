{
 "cells": [
  {
   "cell_type": "code",
   "execution_count": 65,
   "id": "7990fe6f",
   "metadata": {},
   "outputs": [],
   "source": [
    "# importing libraries\n",
    "\n",
    "import numpy as np\n",
    "import pandas as pd\n",
    "import seaborn as sns\n",
    "import matplotlib.pyplot as plt\n",
    "from sklearn.model_selection import train_test_split\n",
    "from sklearn.preprocessing import StandardScaler\n",
    "from sklearn.neighbors import KNeighborsClassifier\n",
    "from sklearn.neighbors import KNeighborsClassifier\n",
    "from sklearn.metrics import confusion_matrix\n",
    "from sklearn.metrics import classification_report\n",
    "from sklearn.linear_model import LinearRegression\n",
    "from sklearn.metrics import r2_score\n",
    "from sklearn.metrics import mean_squared_error\n",
    "from sklearn.metrics import mean_absolute_error\n",
    "from sklearn.metrics import explained_variance_score\n",
    "from statsmodels.stats.outliers_influence import variance_inflation_factor\n",
    "import statsmodels.api as sm\n",
    "from sklearn import preprocessing\n"
   ]
  },
  {
   "cell_type": "code",
   "execution_count": 66,
   "id": "d8f22642",
   "metadata": {
    "collapsed": true
   },
   "outputs": [
    {
     "name": "stdout",
     "output_type": "stream",
     "text": [
      "Requirement already satisfied: mlxtend in c:\\users\\hp\\anaconda3\\lib\\site-packages (0.23.0)\n",
      "Requirement already satisfied: scipy>=1.2.1 in c:\\users\\hp\\anaconda3\\lib\\site-packages (from mlxtend) (1.10.1)\n",
      "Requirement already satisfied: numpy>=1.16.2 in c:\\users\\hp\\anaconda3\\lib\\site-packages (from mlxtend) (1.24.3)\n",
      "Requirement already satisfied: pandas>=0.24.2 in c:\\users\\hp\\anaconda3\\lib\\site-packages (from mlxtend) (1.5.3)\n",
      "Requirement already satisfied: scikit-learn>=1.0.2 in c:\\users\\hp\\anaconda3\\lib\\site-packages (from mlxtend) (1.3.0)\n",
      "Requirement already satisfied: matplotlib>=3.0.0 in c:\\users\\hp\\anaconda3\\lib\\site-packages (from mlxtend) (3.7.1)\n",
      "Requirement already satisfied: joblib>=0.13.2 in c:\\users\\hp\\anaconda3\\lib\\site-packages (from mlxtend) (1.2.0)\n",
      "Requirement already satisfied: contourpy>=1.0.1 in c:\\users\\hp\\anaconda3\\lib\\site-packages (from matplotlib>=3.0.0->mlxtend) (1.0.5)\n",
      "Requirement already satisfied: cycler>=0.10 in c:\\users\\hp\\anaconda3\\lib\\site-packages (from matplotlib>=3.0.0->mlxtend) (0.11.0)\n",
      "Requirement already satisfied: fonttools>=4.22.0 in c:\\users\\hp\\anaconda3\\lib\\site-packages (from matplotlib>=3.0.0->mlxtend) (4.25.0)\n",
      "Requirement already satisfied: kiwisolver>=1.0.1 in c:\\users\\hp\\anaconda3\\lib\\site-packages (from matplotlib>=3.0.0->mlxtend) (1.4.4)\n",
      "Requirement already satisfied: packaging>=20.0 in c:\\users\\hp\\anaconda3\\lib\\site-packages (from matplotlib>=3.0.0->mlxtend) (23.0)\n",
      "Requirement already satisfied: pillow>=6.2.0 in c:\\users\\hp\\anaconda3\\lib\\site-packages (from matplotlib>=3.0.0->mlxtend) (9.4.0)\n",
      "Requirement already satisfied: pyparsing>=2.3.1 in c:\\users\\hp\\anaconda3\\lib\\site-packages (from matplotlib>=3.0.0->mlxtend) (3.0.9)\n",
      "Requirement already satisfied: python-dateutil>=2.7 in c:\\users\\hp\\anaconda3\\lib\\site-packages (from matplotlib>=3.0.0->mlxtend) (2.8.2)\n",
      "Requirement already satisfied: pytz>=2020.1 in c:\\users\\hp\\anaconda3\\lib\\site-packages (from pandas>=0.24.2->mlxtend) (2022.7)\n",
      "Requirement already satisfied: threadpoolctl>=2.0.0 in c:\\users\\hp\\anaconda3\\lib\\site-packages (from scikit-learn>=1.0.2->mlxtend) (2.2.0)\n",
      "Requirement already satisfied: six>=1.5 in c:\\users\\hp\\anaconda3\\lib\\site-packages (from python-dateutil>=2.7->matplotlib>=3.0.0->mlxtend) (1.16.0)\n",
      "Note: you may need to restart the kernel to use updated packages.\n"
     ]
    }
   ],
   "source": [
    "pip install mlxtend"
   ]
  },
  {
   "cell_type": "code",
   "execution_count": 166,
   "id": "6bfbfbf4",
   "metadata": {},
   "outputs": [],
   "source": [
    "# loading dataset\n",
    "df_sdc = pd.read_csv(r\"C:\\Users\\hp\\Desktop\\ALY6020 Predictive Analytics\\A2\\CAR.csv\")\n"
   ]
  },
  {
   "cell_type": "markdown",
   "id": "fcc64d34",
   "metadata": {},
   "source": [
    "## Part 1 : Data Cleanning"
   ]
  },
  {
   "cell_type": "code",
   "execution_count": 167,
   "id": "c0f521bb",
   "metadata": {},
   "outputs": [
    {
     "data": {
      "text/html": [
       "<div>\n",
       "<style scoped>\n",
       "    .dataframe tbody tr th:only-of-type {\n",
       "        vertical-align: middle;\n",
       "    }\n",
       "\n",
       "    .dataframe tbody tr th {\n",
       "        vertical-align: top;\n",
       "    }\n",
       "\n",
       "    .dataframe thead th {\n",
       "        text-align: right;\n",
       "    }\n",
       "</style>\n",
       "<table border=\"1\" class=\"dataframe\">\n",
       "  <thead>\n",
       "    <tr style=\"text-align: right;\">\n",
       "      <th></th>\n",
       "      <th>MPG</th>\n",
       "      <th>Cylinders</th>\n",
       "      <th>Displacement</th>\n",
       "      <th>Horsepower</th>\n",
       "      <th>Weight</th>\n",
       "      <th>Acceleration</th>\n",
       "      <th>Model Year</th>\n",
       "      <th>US Made</th>\n",
       "    </tr>\n",
       "  </thead>\n",
       "  <tbody>\n",
       "    <tr>\n",
       "      <th>0</th>\n",
       "      <td>18.0</td>\n",
       "      <td>8</td>\n",
       "      <td>307.0</td>\n",
       "      <td>130</td>\n",
       "      <td>3504</td>\n",
       "      <td>12.0</td>\n",
       "      <td>70</td>\n",
       "      <td>1</td>\n",
       "    </tr>\n",
       "    <tr>\n",
       "      <th>1</th>\n",
       "      <td>15.0</td>\n",
       "      <td>8</td>\n",
       "      <td>350.0</td>\n",
       "      <td>165</td>\n",
       "      <td>3693</td>\n",
       "      <td>11.5</td>\n",
       "      <td>70</td>\n",
       "      <td>1</td>\n",
       "    </tr>\n",
       "    <tr>\n",
       "      <th>2</th>\n",
       "      <td>18.0</td>\n",
       "      <td>8</td>\n",
       "      <td>318.0</td>\n",
       "      <td>150</td>\n",
       "      <td>3436</td>\n",
       "      <td>11.0</td>\n",
       "      <td>70</td>\n",
       "      <td>1</td>\n",
       "    </tr>\n",
       "    <tr>\n",
       "      <th>3</th>\n",
       "      <td>16.0</td>\n",
       "      <td>8</td>\n",
       "      <td>304.0</td>\n",
       "      <td>150</td>\n",
       "      <td>3433</td>\n",
       "      <td>12.0</td>\n",
       "      <td>70</td>\n",
       "      <td>1</td>\n",
       "    </tr>\n",
       "    <tr>\n",
       "      <th>4</th>\n",
       "      <td>17.0</td>\n",
       "      <td>8</td>\n",
       "      <td>302.0</td>\n",
       "      <td>140</td>\n",
       "      <td>3449</td>\n",
       "      <td>10.5</td>\n",
       "      <td>70</td>\n",
       "      <td>1</td>\n",
       "    </tr>\n",
       "  </tbody>\n",
       "</table>\n",
       "</div>"
      ],
      "text/plain": [
       "    MPG  Cylinders  Displacement Horsepower  Weight  Acceleration  Model Year  \\\n",
       "0  18.0          8         307.0        130    3504          12.0          70   \n",
       "1  15.0          8         350.0        165    3693          11.5          70   \n",
       "2  18.0          8         318.0        150    3436          11.0          70   \n",
       "3  16.0          8         304.0        150    3433          12.0          70   \n",
       "4  17.0          8         302.0        140    3449          10.5          70   \n",
       "\n",
       "   US Made  \n",
       "0        1  \n",
       "1        1  \n",
       "2        1  \n",
       "3        1  \n",
       "4        1  "
      ]
     },
     "execution_count": 167,
     "metadata": {},
     "output_type": "execute_result"
    }
   ],
   "source": [
    "df_sdc.head()"
   ]
  },
  {
   "cell_type": "code",
   "execution_count": 168,
   "id": "f4bdfc55",
   "metadata": {},
   "outputs": [
    {
     "data": {
      "text/plain": [
       "MPG             0\n",
       "Cylinders       0\n",
       "Displacement    0\n",
       "Horsepower      0\n",
       "Weight          0\n",
       "Acceleration    0\n",
       "Model Year      0\n",
       "US Made         0\n",
       "dtype: int64"
      ]
     },
     "execution_count": 168,
     "metadata": {},
     "output_type": "execute_result"
    }
   ],
   "source": [
    "# Checking for the missing values\n",
    "\n",
    "df_sdc.isnull().sum()"
   ]
  },
  {
   "cell_type": "code",
   "execution_count": 169,
   "id": "0840b738",
   "metadata": {
    "scrolled": true
   },
   "outputs": [
    {
     "name": "stdout",
     "output_type": "stream",
     "text": [
      "<class 'pandas.core.frame.DataFrame'>\n",
      "RangeIndex: 398 entries, 0 to 397\n",
      "Data columns (total 8 columns):\n",
      " #   Column        Non-Null Count  Dtype  \n",
      "---  ------        --------------  -----  \n",
      " 0   MPG           398 non-null    float64\n",
      " 1   Cylinders     398 non-null    int64  \n",
      " 2   Displacement  398 non-null    float64\n",
      " 3   Horsepower    398 non-null    object \n",
      " 4   Weight        398 non-null    int64  \n",
      " 5   Acceleration  398 non-null    float64\n",
      " 6   Model Year    398 non-null    int64  \n",
      " 7   US Made       398 non-null    int64  \n",
      "dtypes: float64(3), int64(4), object(1)\n",
      "memory usage: 25.0+ KB\n"
     ]
    }
   ],
   "source": [
    "## now checking the summary of the DataFrame\n",
    "\n",
    "df_sdc.info()"
   ]
  },
  {
   "cell_type": "code",
   "execution_count": 170,
   "id": "373e6083",
   "metadata": {
    "scrolled": true
   },
   "outputs": [
    {
     "data": {
      "text/html": [
       "<div>\n",
       "<style scoped>\n",
       "    .dataframe tbody tr th:only-of-type {\n",
       "        vertical-align: middle;\n",
       "    }\n",
       "\n",
       "    .dataframe tbody tr th {\n",
       "        vertical-align: top;\n",
       "    }\n",
       "\n",
       "    .dataframe thead th {\n",
       "        text-align: right;\n",
       "    }\n",
       "</style>\n",
       "<table border=\"1\" class=\"dataframe\">\n",
       "  <thead>\n",
       "    <tr style=\"text-align: right;\">\n",
       "      <th></th>\n",
       "      <th>MPG</th>\n",
       "      <th>Cylinders</th>\n",
       "      <th>Displacement</th>\n",
       "      <th>Weight</th>\n",
       "      <th>Acceleration</th>\n",
       "      <th>Model Year</th>\n",
       "      <th>US Made</th>\n",
       "    </tr>\n",
       "  </thead>\n",
       "  <tbody>\n",
       "    <tr>\n",
       "      <th>count</th>\n",
       "      <td>398.000000</td>\n",
       "      <td>398.000000</td>\n",
       "      <td>398.000000</td>\n",
       "      <td>398.000000</td>\n",
       "      <td>398.000000</td>\n",
       "      <td>398.000000</td>\n",
       "      <td>398.000000</td>\n",
       "    </tr>\n",
       "    <tr>\n",
       "      <th>mean</th>\n",
       "      <td>23.514573</td>\n",
       "      <td>5.454774</td>\n",
       "      <td>193.425879</td>\n",
       "      <td>2970.424623</td>\n",
       "      <td>15.568090</td>\n",
       "      <td>76.010050</td>\n",
       "      <td>0.625628</td>\n",
       "    </tr>\n",
       "    <tr>\n",
       "      <th>std</th>\n",
       "      <td>7.815984</td>\n",
       "      <td>1.701004</td>\n",
       "      <td>104.269838</td>\n",
       "      <td>846.841774</td>\n",
       "      <td>2.757689</td>\n",
       "      <td>3.697627</td>\n",
       "      <td>0.484569</td>\n",
       "    </tr>\n",
       "    <tr>\n",
       "      <th>min</th>\n",
       "      <td>9.000000</td>\n",
       "      <td>3.000000</td>\n",
       "      <td>68.000000</td>\n",
       "      <td>1613.000000</td>\n",
       "      <td>8.000000</td>\n",
       "      <td>70.000000</td>\n",
       "      <td>0.000000</td>\n",
       "    </tr>\n",
       "    <tr>\n",
       "      <th>25%</th>\n",
       "      <td>17.500000</td>\n",
       "      <td>4.000000</td>\n",
       "      <td>104.250000</td>\n",
       "      <td>2223.750000</td>\n",
       "      <td>13.825000</td>\n",
       "      <td>73.000000</td>\n",
       "      <td>0.000000</td>\n",
       "    </tr>\n",
       "    <tr>\n",
       "      <th>50%</th>\n",
       "      <td>23.000000</td>\n",
       "      <td>4.000000</td>\n",
       "      <td>148.500000</td>\n",
       "      <td>2803.500000</td>\n",
       "      <td>15.500000</td>\n",
       "      <td>76.000000</td>\n",
       "      <td>1.000000</td>\n",
       "    </tr>\n",
       "    <tr>\n",
       "      <th>75%</th>\n",
       "      <td>29.000000</td>\n",
       "      <td>8.000000</td>\n",
       "      <td>262.000000</td>\n",
       "      <td>3608.000000</td>\n",
       "      <td>17.175000</td>\n",
       "      <td>79.000000</td>\n",
       "      <td>1.000000</td>\n",
       "    </tr>\n",
       "    <tr>\n",
       "      <th>max</th>\n",
       "      <td>46.600000</td>\n",
       "      <td>8.000000</td>\n",
       "      <td>455.000000</td>\n",
       "      <td>5140.000000</td>\n",
       "      <td>24.800000</td>\n",
       "      <td>82.000000</td>\n",
       "      <td>1.000000</td>\n",
       "    </tr>\n",
       "  </tbody>\n",
       "</table>\n",
       "</div>"
      ],
      "text/plain": [
       "              MPG   Cylinders  Displacement       Weight  Acceleration  \\\n",
       "count  398.000000  398.000000    398.000000   398.000000    398.000000   \n",
       "mean    23.514573    5.454774    193.425879  2970.424623     15.568090   \n",
       "std      7.815984    1.701004    104.269838   846.841774      2.757689   \n",
       "min      9.000000    3.000000     68.000000  1613.000000      8.000000   \n",
       "25%     17.500000    4.000000    104.250000  2223.750000     13.825000   \n",
       "50%     23.000000    4.000000    148.500000  2803.500000     15.500000   \n",
       "75%     29.000000    8.000000    262.000000  3608.000000     17.175000   \n",
       "max     46.600000    8.000000    455.000000  5140.000000     24.800000   \n",
       "\n",
       "       Model Year     US Made  \n",
       "count  398.000000  398.000000  \n",
       "mean    76.010050    0.625628  \n",
       "std      3.697627    0.484569  \n",
       "min     70.000000    0.000000  \n",
       "25%     73.000000    0.000000  \n",
       "50%     76.000000    1.000000  \n",
       "75%     79.000000    1.000000  \n",
       "max     82.000000    1.000000  "
      ]
     },
     "execution_count": 170,
     "metadata": {},
     "output_type": "execute_result"
    }
   ],
   "source": [
    "# Checking the summary statistics for numerical attributes\n",
    "\n",
    "df_sdc.describe()"
   ]
  },
  {
   "cell_type": "markdown",
   "id": "83272cf7",
   "metadata": {},
   "source": [
    "### Working for variable 'Horsepower'"
   ]
  },
  {
   "cell_type": "code",
   "execution_count": 171,
   "id": "15b7e117",
   "metadata": {
    "scrolled": true
   },
   "outputs": [
    {
     "data": {
      "text/plain": [
       "array(['130', '165', '150', '140', '198', '220', '215', '225', '190',\n",
       "       '170', '160', '95', '97', '85', '88', '46', '87', '90', '113',\n",
       "       '200', '210', '193', '?', '100', '105', '175', '153', '180', '110',\n",
       "       '72', '86', '70', '76', '65', '69', '60', '80', '54', '208', '155',\n",
       "       '112', '92', '145', '137', '158', '167', '94', '107', '230', '49',\n",
       "       '75', '91', '122', '67', '83', '78', '52', '61', '93', '148',\n",
       "       '129', '96', '71', '98', '115', '53', '81', '79', '120', '152',\n",
       "       '102', '108', '68', '58', '149', '89', '63', '48', '66', '139',\n",
       "       '103', '125', '133', '138', '135', '142', '77', '62', '132', '84',\n",
       "       '64', '74', '116', '82'], dtype=object)"
      ]
     },
     "execution_count": 171,
     "metadata": {},
     "output_type": "execute_result"
    }
   ],
   "source": [
    "## Checking unique values\n",
    "\n",
    "df_sdc.Horsepower.unique()"
   ]
  },
  {
   "cell_type": "markdown",
   "id": "dae94f22",
   "metadata": {},
   "source": [
    "we can see \"?\" values"
   ]
  },
  {
   "cell_type": "code",
   "execution_count": 172,
   "id": "2b108c35",
   "metadata": {},
   "outputs": [],
   "source": [
    "# replace '?' with NaN and convert to float\n",
    "\n",
    "df_sdc['Horsepower'] = pd.to_numeric(df_sdc['Horsepower'], errors='coerce')"
   ]
  },
  {
   "cell_type": "code",
   "execution_count": 173,
   "id": "c515e9e8",
   "metadata": {},
   "outputs": [
    {
     "data": {
      "text/plain": [
       "array([130., 165., 150., 140., 198., 220., 215., 225., 190., 170., 160.,\n",
       "        95.,  97.,  85.,  88.,  46.,  87.,  90., 113., 200., 210., 193.,\n",
       "        nan, 100., 105., 175., 153., 180., 110.,  72.,  86.,  70.,  76.,\n",
       "        65.,  69.,  60.,  80.,  54., 208., 155., 112.,  92., 145., 137.,\n",
       "       158., 167.,  94., 107., 230.,  49.,  75.,  91., 122.,  67.,  83.,\n",
       "        78.,  52.,  61.,  93., 148., 129.,  96.,  71.,  98., 115.,  53.,\n",
       "        81.,  79., 120., 152., 102., 108.,  68.,  58., 149.,  89.,  63.,\n",
       "        48.,  66., 139., 103., 125., 133., 138., 135., 142.,  77.,  62.,\n",
       "       132.,  84.,  64.,  74., 116.,  82.])"
      ]
     },
     "execution_count": 173,
     "metadata": {},
     "output_type": "execute_result"
    }
   ],
   "source": [
    "df_sdc.Horsepower.unique()"
   ]
  },
  {
   "cell_type": "code",
   "execution_count": 174,
   "id": "7d7d12a2",
   "metadata": {
    "scrolled": false
   },
   "outputs": [
    {
     "data": {
      "text/plain": [
       "6"
      ]
     },
     "execution_count": 174,
     "metadata": {},
     "output_type": "execute_result"
    }
   ],
   "source": [
    "df_sdc['Horsepower'].isnull().sum()"
   ]
  },
  {
   "cell_type": "code",
   "execution_count": 175,
   "id": "12a22f2a",
   "metadata": {
    "scrolled": false
   },
   "outputs": [
    {
     "data": {
      "image/png": "[encoded data removed]",
      "text/plain": [
       "<Figure size 1200x800 with 9 Axes>"
      ]
     },
     "metadata": {},
     "output_type": "display_data"
    }
   ],
   "source": [
    "# Seeing the Histograms of different variables\n",
    "\n",
    "df_sdc.hist(figsize=(12,8),bins=20, color='green')\n",
    "\n",
    "#plt.xticks(range(0, 240, 20))\n",
    "\n",
    "plt.show()"
   ]
  },
  {
   "cell_type": "markdown",
   "id": "aea4a62b",
   "metadata": {},
   "source": [
    "1.5% of the values are null in column 'Horsepower'. Will replace the nan values with median becuase the distribution is skewed."
   ]
  },
  {
   "cell_type": "code",
   "execution_count": 176,
   "id": "35613184",
   "metadata": {},
   "outputs": [],
   "source": [
    "# fill missing values with the mean\n",
    "\n",
    "hp_median = df_sdc['Horsepower'].median()\n",
    "df_sdc['Horsepower'].fillna(hp_median, inplace=True)\n",
    "\n",
    "# changing the type to integer\n",
    "\n",
    "df_sdc['Horsepower'] = df_sdc['Horsepower'].astype(int)"
   ]
  },
  {
   "cell_type": "code",
   "execution_count": 177,
   "id": "2db42c59",
   "metadata": {},
   "outputs": [
    {
     "name": "stdout",
     "output_type": "stream",
     "text": [
      "<class 'pandas.core.frame.DataFrame'>\n",
      "RangeIndex: 398 entries, 0 to 397\n",
      "Data columns (total 8 columns):\n",
      " #   Column        Non-Null Count  Dtype  \n",
      "---  ------        --------------  -----  \n",
      " 0   MPG           398 non-null    float64\n",
      " 1   Cylinders     398 non-null    int64  \n",
      " 2   Displacement  398 non-null    float64\n",
      " 3   Horsepower    398 non-null    int32  \n",
      " 4   Weight        398 non-null    int64  \n",
      " 5   Acceleration  398 non-null    float64\n",
      " 6   Model Year    398 non-null    int64  \n",
      " 7   US Made       398 non-null    int64  \n",
      "dtypes: float64(3), int32(1), int64(4)\n",
      "memory usage: 23.4 KB\n"
     ]
    }
   ],
   "source": [
    "## checking data types\n",
    "\n",
    "df_sdc.info()"
   ]
  },
  {
   "cell_type": "code",
   "execution_count": 178,
   "id": "be836a58",
   "metadata": {},
   "outputs": [
    {
     "data": {
      "text/html": [
       "<div>\n",
       "<style scoped>\n",
       "    .dataframe tbody tr th:only-of-type {\n",
       "        vertical-align: middle;\n",
       "    }\n",
       "\n",
       "    .dataframe tbody tr th {\n",
       "        vertical-align: top;\n",
       "    }\n",
       "\n",
       "    .dataframe thead th {\n",
       "        text-align: right;\n",
       "    }\n",
       "</style>\n",
       "<table border=\"1\" class=\"dataframe\">\n",
       "  <thead>\n",
       "    <tr style=\"text-align: right;\">\n",
       "      <th></th>\n",
       "      <th>MPG</th>\n",
       "      <th>Cylinders</th>\n",
       "      <th>Displacement</th>\n",
       "      <th>Horsepower</th>\n",
       "      <th>Weight</th>\n",
       "      <th>Acceleration</th>\n",
       "      <th>Model Year</th>\n",
       "      <th>US Made</th>\n",
       "    </tr>\n",
       "  </thead>\n",
       "  <tbody>\n",
       "    <tr>\n",
       "      <th>count</th>\n",
       "      <td>398.000000</td>\n",
       "      <td>398.000000</td>\n",
       "      <td>398.000000</td>\n",
       "      <td>398.000000</td>\n",
       "      <td>398.000000</td>\n",
       "      <td>398.000000</td>\n",
       "      <td>398.000000</td>\n",
       "      <td>398.000000</td>\n",
       "    </tr>\n",
       "    <tr>\n",
       "      <th>mean</th>\n",
       "      <td>23.514573</td>\n",
       "      <td>5.454774</td>\n",
       "      <td>193.425879</td>\n",
       "      <td>104.296482</td>\n",
       "      <td>2970.424623</td>\n",
       "      <td>15.568090</td>\n",
       "      <td>76.010050</td>\n",
       "      <td>0.625628</td>\n",
       "    </tr>\n",
       "    <tr>\n",
       "      <th>std</th>\n",
       "      <td>7.815984</td>\n",
       "      <td>1.701004</td>\n",
       "      <td>104.269838</td>\n",
       "      <td>38.224809</td>\n",
       "      <td>846.841774</td>\n",
       "      <td>2.757689</td>\n",
       "      <td>3.697627</td>\n",
       "      <td>0.484569</td>\n",
       "    </tr>\n",
       "    <tr>\n",
       "      <th>min</th>\n",
       "      <td>9.000000</td>\n",
       "      <td>3.000000</td>\n",
       "      <td>68.000000</td>\n",
       "      <td>46.000000</td>\n",
       "      <td>1613.000000</td>\n",
       "      <td>8.000000</td>\n",
       "      <td>70.000000</td>\n",
       "      <td>0.000000</td>\n",
       "    </tr>\n",
       "    <tr>\n",
       "      <th>25%</th>\n",
       "      <td>17.500000</td>\n",
       "      <td>4.000000</td>\n",
       "      <td>104.250000</td>\n",
       "      <td>76.000000</td>\n",
       "      <td>2223.750000</td>\n",
       "      <td>13.825000</td>\n",
       "      <td>73.000000</td>\n",
       "      <td>0.000000</td>\n",
       "    </tr>\n",
       "    <tr>\n",
       "      <th>50%</th>\n",
       "      <td>23.000000</td>\n",
       "      <td>4.000000</td>\n",
       "      <td>148.500000</td>\n",
       "      <td>93.000000</td>\n",
       "      <td>2803.500000</td>\n",
       "      <td>15.500000</td>\n",
       "      <td>76.000000</td>\n",
       "      <td>1.000000</td>\n",
       "    </tr>\n",
       "    <tr>\n",
       "      <th>75%</th>\n",
       "      <td>29.000000</td>\n",
       "      <td>8.000000</td>\n",
       "      <td>262.000000</td>\n",
       "      <td>125.000000</td>\n",
       "      <td>3608.000000</td>\n",
       "      <td>17.175000</td>\n",
       "      <td>79.000000</td>\n",
       "      <td>1.000000</td>\n",
       "    </tr>\n",
       "    <tr>\n",
       "      <th>max</th>\n",
       "      <td>46.600000</td>\n",
       "      <td>8.000000</td>\n",
       "      <td>455.000000</td>\n",
       "      <td>230.000000</td>\n",
       "      <td>5140.000000</td>\n",
       "      <td>24.800000</td>\n",
       "      <td>82.000000</td>\n",
       "      <td>1.000000</td>\n",
       "    </tr>\n",
       "  </tbody>\n",
       "</table>\n",
       "</div>"
      ],
      "text/plain": [
       "              MPG   Cylinders  Displacement  Horsepower       Weight  \\\n",
       "count  398.000000  398.000000    398.000000  398.000000   398.000000   \n",
       "mean    23.514573    5.454774    193.425879  104.296482  2970.424623   \n",
       "std      7.815984    1.701004    104.269838   38.224809   846.841774   \n",
       "min      9.000000    3.000000     68.000000   46.000000  1613.000000   \n",
       "25%     17.500000    4.000000    104.250000   76.000000  2223.750000   \n",
       "50%     23.000000    4.000000    148.500000   93.000000  2803.500000   \n",
       "75%     29.000000    8.000000    262.000000  125.000000  3608.000000   \n",
       "max     46.600000    8.000000    455.000000  230.000000  5140.000000   \n",
       "\n",
       "       Acceleration  Model Year     US Made  \n",
       "count    398.000000  398.000000  398.000000  \n",
       "mean      15.568090   76.010050    0.625628  \n",
       "std        2.757689    3.697627    0.484569  \n",
       "min        8.000000   70.000000    0.000000  \n",
       "25%       13.825000   73.000000    0.000000  \n",
       "50%       15.500000   76.000000    1.000000  \n",
       "75%       17.175000   79.000000    1.000000  \n",
       "max       24.800000   82.000000    1.000000  "
      ]
     },
     "execution_count": 178,
     "metadata": {},
     "output_type": "execute_result"
    }
   ],
   "source": [
    "# Checking the summary statistics for numerical attributes\n",
    "\n",
    "df_sdc.describe()"
   ]
  },
  {
   "cell_type": "code",
   "execution_count": 179,
   "id": "29cf61a4",
   "metadata": {},
   "outputs": [
    {
     "name": "stdout",
     "output_type": "stream",
     "text": [
      "Number of duplicated rows: 0\n",
      "Number of null values: 0\n"
     ]
    }
   ],
   "source": [
    "## checking for duplicated observation or null values.\n",
    "\n",
    "# counting the no. of duplicated values\n",
    "\n",
    "duplicate_num = (df_sdc.duplicated()).sum()\n",
    "print(f\"Number of duplicated rows: {duplicate_num}\")\n",
    "\n",
    "# counting the no. of null values\n",
    "\n",
    "null_num = df_sdc.isnull().sum().sum()\n",
    "print(f\"Number of null values: {null_num}\")"
   ]
  },
  {
   "cell_type": "code",
   "execution_count": 180,
   "id": "8bb8aa11",
   "metadata": {},
   "outputs": [
    {
     "data": {
      "text/html": [
       "<div>\n",
       "<style scoped>\n",
       "    .dataframe tbody tr th:only-of-type {\n",
       "        vertical-align: middle;\n",
       "    }\n",
       "\n",
       "    .dataframe tbody tr th {\n",
       "        vertical-align: top;\n",
       "    }\n",
       "\n",
       "    .dataframe thead th {\n",
       "        text-align: right;\n",
       "    }\n",
       "</style>\n",
       "<table border=\"1\" class=\"dataframe\">\n",
       "  <thead>\n",
       "    <tr style=\"text-align: right;\">\n",
       "      <th></th>\n",
       "      <th>MPG</th>\n",
       "      <th>Cylinders</th>\n",
       "      <th>Displacement</th>\n",
       "      <th>Horsepower</th>\n",
       "      <th>Weight</th>\n",
       "      <th>Acceleration</th>\n",
       "      <th>Model Year</th>\n",
       "      <th>US Made</th>\n",
       "    </tr>\n",
       "  </thead>\n",
       "  <tbody>\n",
       "    <tr>\n",
       "      <th>count</th>\n",
       "      <td>398.000000</td>\n",
       "      <td>398.000000</td>\n",
       "      <td>398.000000</td>\n",
       "      <td>398.000000</td>\n",
       "      <td>398.000000</td>\n",
       "      <td>398.000000</td>\n",
       "      <td>398.000000</td>\n",
       "      <td>398.000000</td>\n",
       "    </tr>\n",
       "    <tr>\n",
       "      <th>mean</th>\n",
       "      <td>23.514573</td>\n",
       "      <td>5.454774</td>\n",
       "      <td>193.425879</td>\n",
       "      <td>104.296482</td>\n",
       "      <td>2970.424623</td>\n",
       "      <td>15.568090</td>\n",
       "      <td>76.010050</td>\n",
       "      <td>0.625628</td>\n",
       "    </tr>\n",
       "    <tr>\n",
       "      <th>std</th>\n",
       "      <td>7.815984</td>\n",
       "      <td>1.701004</td>\n",
       "      <td>104.269838</td>\n",
       "      <td>38.224809</td>\n",
       "      <td>846.841774</td>\n",
       "      <td>2.757689</td>\n",
       "      <td>3.697627</td>\n",
       "      <td>0.484569</td>\n",
       "    </tr>\n",
       "    <tr>\n",
       "      <th>min</th>\n",
       "      <td>9.000000</td>\n",
       "      <td>3.000000</td>\n",
       "      <td>68.000000</td>\n",
       "      <td>46.000000</td>\n",
       "      <td>1613.000000</td>\n",
       "      <td>8.000000</td>\n",
       "      <td>70.000000</td>\n",
       "      <td>0.000000</td>\n",
       "    </tr>\n",
       "    <tr>\n",
       "      <th>25%</th>\n",
       "      <td>17.500000</td>\n",
       "      <td>4.000000</td>\n",
       "      <td>104.250000</td>\n",
       "      <td>76.000000</td>\n",
       "      <td>2223.750000</td>\n",
       "      <td>13.825000</td>\n",
       "      <td>73.000000</td>\n",
       "      <td>0.000000</td>\n",
       "    </tr>\n",
       "    <tr>\n",
       "      <th>50%</th>\n",
       "      <td>23.000000</td>\n",
       "      <td>4.000000</td>\n",
       "      <td>148.500000</td>\n",
       "      <td>93.000000</td>\n",
       "      <td>2803.500000</td>\n",
       "      <td>15.500000</td>\n",
       "      <td>76.000000</td>\n",
       "      <td>1.000000</td>\n",
       "    </tr>\n",
       "    <tr>\n",
       "      <th>75%</th>\n",
       "      <td>29.000000</td>\n",
       "      <td>8.000000</td>\n",
       "      <td>262.000000</td>\n",
       "      <td>125.000000</td>\n",
       "      <td>3608.000000</td>\n",
       "      <td>17.175000</td>\n",
       "      <td>79.000000</td>\n",
       "      <td>1.000000</td>\n",
       "    </tr>\n",
       "    <tr>\n",
       "      <th>max</th>\n",
       "      <td>46.600000</td>\n",
       "      <td>8.000000</td>\n",
       "      <td>455.000000</td>\n",
       "      <td>230.000000</td>\n",
       "      <td>5140.000000</td>\n",
       "      <td>24.800000</td>\n",
       "      <td>82.000000</td>\n",
       "      <td>1.000000</td>\n",
       "    </tr>\n",
       "  </tbody>\n",
       "</table>\n",
       "</div>"
      ],
      "text/plain": [
       "              MPG   Cylinders  Displacement  Horsepower       Weight  \\\n",
       "count  398.000000  398.000000    398.000000  398.000000   398.000000   \n",
       "mean    23.514573    5.454774    193.425879  104.296482  2970.424623   \n",
       "std      7.815984    1.701004    104.269838   38.224809   846.841774   \n",
       "min      9.000000    3.000000     68.000000   46.000000  1613.000000   \n",
       "25%     17.500000    4.000000    104.250000   76.000000  2223.750000   \n",
       "50%     23.000000    4.000000    148.500000   93.000000  2803.500000   \n",
       "75%     29.000000    8.000000    262.000000  125.000000  3608.000000   \n",
       "max     46.600000    8.000000    455.000000  230.000000  5140.000000   \n",
       "\n",
       "       Acceleration  Model Year     US Made  \n",
       "count    398.000000  398.000000  398.000000  \n",
       "mean      15.568090   76.010050    0.625628  \n",
       "std        2.757689    3.697627    0.484569  \n",
       "min        8.000000   70.000000    0.000000  \n",
       "25%       13.825000   73.000000    0.000000  \n",
       "50%       15.500000   76.000000    1.000000  \n",
       "75%       17.175000   79.000000    1.000000  \n",
       "max       24.800000   82.000000    1.000000  "
      ]
     },
     "execution_count": 180,
     "metadata": {},
     "output_type": "execute_result"
    }
   ],
   "source": [
    "## Once cleaning of the data is done, now we will see summary.\n",
    "\n",
    "df_sdc.describe()"
   ]
  },
  {
   "cell_type": "markdown",
   "id": "4a6759c2",
   "metadata": {},
   "source": [
    "### Working for variable 'Cylinders'"
   ]
  },
  {
   "cell_type": "code",
   "execution_count": 181,
   "id": "dcc65954",
   "metadata": {},
   "outputs": [
    {
     "data": {
      "text/plain": [
       "4    204\n",
       "8    103\n",
       "6     84\n",
       "3      4\n",
       "5      3\n",
       "Name: Cylinders, dtype: int64"
      ]
     },
     "execution_count": 181,
     "metadata": {},
     "output_type": "execute_result"
    }
   ],
   "source": [
    "# seeing the unique values of variable cylinders\n",
    "\n",
    "df_sdc['Cylinders'].value_counts()"
   ]
  },
  {
   "cell_type": "code",
   "execution_count": 182,
   "id": "876ec85b",
   "metadata": {},
   "outputs": [
    {
     "data": {
      "image/png": "[encoded data removed]",
      "text/plain": [
       "<Figure size 700x500 with 1 Axes>"
      ]
     },
     "metadata": {},
     "output_type": "display_data"
    }
   ],
   "source": [
    "import seaborn as sns\n",
    "import matplotlib.pyplot as plt\n",
    "\n",
    "# Defining a custom color palette\n",
    "custom_palette = sns.color_palette(\"husl\", n_colors=len(df_sdc[\"Cylinders\"].unique()))\n",
    "\n",
    "fig, ax = plt.subplots(figsize=(7, 5))\n",
    "sns.countplot(x=\"Cylinders\", data=df_sdc, ax=ax, palette=custom_palette)\n",
    "ax.set_title(\"Distribution of Cylinders\")\n",
    "\n",
    "# Adding count values above each column\n",
    "for p in ax.patches:\n",
    "    ax.annotate(f'{p.get_height()}', (p.get_x() + p.get_width() / 2., p.get_height()),\n",
    "                ha='center', va='center', xytext=(0, 10), textcoords='offset points')\n",
    "\n",
    "plt.show()"
   ]
  },
  {
   "cell_type": "code",
   "execution_count": 183,
   "id": "7ce57bad",
   "metadata": {},
   "outputs": [
    {
     "name": "stdout",
     "output_type": "stream",
     "text": [
      "4    51.256281\n",
      "8    25.879397\n",
      "6    21.105528\n",
      "3     1.005025\n",
      "5     0.753769\n",
      "Name: Cylinders, dtype: float64\n"
     ]
    }
   ],
   "source": [
    "# now calculating the percentage of the cylinder distribution in the dataset\n",
    "\n",
    "count_cylinder = df_sdc['Cylinders'].value_counts(normalize=True) * 100\n",
    "print(count_cylinder)"
   ]
  },
  {
   "cell_type": "code",
   "execution_count": 184,
   "id": "0a88eeae",
   "metadata": {},
   "outputs": [
    {
     "data": {
      "image/png": "[encoded data removed]",
      "text/plain": [
       "<Figure size 640x480 with 1 Axes>"
      ]
     },
     "metadata": {},
     "output_type": "display_data"
    }
   ],
   "source": [
    "import seaborn as sns\n",
    "import matplotlib.pyplot as plt\n",
    "from scipy.stats import norm  # Import norm from scipy.stats\n",
    "\n",
    "# Plot the histogram with Seaborn\n",
    "sns.histplot(data=df_sdc, x=\"MPG\", kde=True, stat=\"density\", alpha=0.5, color=\"darkorange\")\n",
    "\n",
    "# Plot the normal distribution curve\n",
    "plt.plot(\n",
    "    range(-3, 80),\n",
    "    norm.pdf(range(-3, 80), loc=df_sdc[\"MPG\"].mean(), scale=df_sdc[\"MPG\"].std()),\n",
    "    color=\"green\"\n",
    ")\n",
    "\n",
    "# Set plot title and labels\n",
    "plt.title(\"Distribution of MPG with the Normal Curve\", fontsize=12)\n",
    "plt.xlabel(\"MPG (Miles per Gallon)\", fontsize=10)\n",
    "plt.ylabel(\"Density\", fontsize=10)\n",
    "\n",
    "# Show the plot\n",
    "plt.show()\n"
   ]
  },
  {
   "cell_type": "code",
   "execution_count": 185,
   "id": "cfd9d4fe",
   "metadata": {},
   "outputs": [
    {
     "name": "stdout",
     "output_type": "stream",
     "text": [
      "0      False\n",
      "1      False\n",
      "2      False\n",
      "3      False\n",
      "4      False\n",
      "       ...  \n",
      "393    False\n",
      "394     True\n",
      "395    False\n",
      "396    False\n",
      "397    False\n",
      "Length: 398, dtype: bool\n",
      "There are 18 outliers in the dataset\n"
     ]
    }
   ],
   "source": [
    "# Checking for outliers\n",
    "\n",
    "# Calculating IQR for numeric columns in dataset\n",
    "\n",
    "Q1 = df_sdc.quantile(0.25)\n",
    "Q3 = df_sdc.quantile(0.75)\n",
    "IQR = Q3 - Q1\n",
    "\n",
    "# Calculating lower and upper bounds for the outliers\n",
    "\n",
    "bound_lower = Q1 - 1.5 * IQR\n",
    "bound_upper = Q3 + 1.5 * IQR\n",
    "\n",
    "# Finding outliers in numeric columns\n",
    "\n",
    "outlier = ( df_sdc < bound_lower) | ( df_sdc > bound_upper)\n",
    "outlier = outlier.any(axis=1)\n",
    "print(outlier)\n",
    "\n",
    "# Counting number of outliers in the columns \n",
    "\n",
    "outliers_num = outlier.sum()\n",
    "print(f'There are {outliers_num} outliers in the dataset')\n"
   ]
  },
  {
   "cell_type": "code",
   "execution_count": 186,
   "id": "1c91987b",
   "metadata": {
    "scrolled": false
   },
   "outputs": [
    {
     "data": {
      "image/png": "[encoded data removed]",
      "text/plain": [
       "<Figure size 1500x700 with 1 Axes>"
      ]
     },
     "metadata": {},
     "output_type": "display_data"
    }
   ],
   "source": [
    "# Creating the box plot for all the variables in dataset\n",
    "\n",
    "df_sdc.plot(kind='box', vert=False, figsize=(15,7), color='darkgreen')\n",
    "plt.show()"
   ]
  },
  {
   "cell_type": "code",
   "execution_count": 187,
   "id": "3b491720",
   "metadata": {},
   "outputs": [
    {
     "data": {
      "image/png": "[encoded data removed]",
      "text/plain": [
       "<Figure size 640x480 with 1 Axes>"
      ]
     },
     "metadata": {},
     "output_type": "display_data"
    }
   ],
   "source": [
    "# Creating box plot for \"mpg\" and the \"cylinders\" variables\n",
    "\n",
    "plt.boxplot([df_sdc['MPG'], df_sdc['Horsepower'], df_sdc['Acceleration']], boxprops=dict(color='darkgreen'))\n",
    "plt.title('Box plot of MPG, Horsepower & Acceleration')\n",
    "plt.ylabel('Value')\n",
    "plt.show()\n"
   ]
  },
  {
   "cell_type": "code",
   "execution_count": 188,
   "id": "71e66263",
   "metadata": {},
   "outputs": [
    {
     "name": "stdout",
     "output_type": "stream",
     "text": [
      "      MPG  Cylinders  Displacement  Horsepower  Weight  Acceleration  \\\n",
      "322  46.6          4          86.0          65    2110          17.9   \n",
      "\n",
      "     Model Year  US Made  \n",
      "322          80        0  \n"
     ]
    }
   ],
   "source": [
    "# Calculating IQR for \"mpg\" column\n",
    "\n",
    "Q1 = df_sdc['MPG'].quantile(0.25)\n",
    "Q3 = df_sdc['MPG'].quantile(0.75)\n",
    "IQR = Q3 - Q1\n",
    "\n",
    "# Calculating lower and upper bounds for the detection of outlier\n",
    "bound_lower = Q1 - 1.5* IQR\n",
    "bound_upper = Q3 + 1.5* IQR\n",
    "\n",
    "# Printing outlier values\n",
    "outlier = df_sdc[(df_sdc['MPG'] < bound_lower) | (df_sdc['MPG'] > bound_upper)]\n",
    "print(outlier)"
   ]
  },
  {
   "cell_type": "code",
   "execution_count": 189,
   "id": "f2807b3c",
   "metadata": {},
   "outputs": [
    {
     "name": "stdout",
     "output_type": "stream",
     "text": [
      "      MPG  Cylinders  Displacement  Horsepower  Weight  Acceleration  \\\n",
      "6    14.0          8         454.0         220    4354           9.0   \n",
      "7    14.0          8         440.0         215    4312           8.5   \n",
      "8    14.0          8         455.0         225    4425          10.0   \n",
      "13   14.0          8         455.0         225    3086          10.0   \n",
      "25   10.0          8         360.0         215    4615          14.0   \n",
      "26   10.0          8         307.0         200    4376          15.0   \n",
      "27   11.0          8         318.0         210    4382          13.5   \n",
      "67   11.0          8         429.0         208    4633          11.0   \n",
      "94   13.0          8         440.0         215    4735          11.0   \n",
      "95   12.0          8         455.0         225    4951          11.0   \n",
      "116  16.0          8         400.0         230    4278           9.5   \n",
      "\n",
      "     Model Year  US Made  \n",
      "6            70        1  \n",
      "7            70        1  \n",
      "8            70        1  \n",
      "13           70        1  \n",
      "25           70        1  \n",
      "26           70        1  \n",
      "27           70        1  \n",
      "67           72        1  \n",
      "94           73        1  \n",
      "95           73        1  \n",
      "116          73        1  \n"
     ]
    }
   ],
   "source": [
    "# Calculating IQR for \"Horsepower\" column\n",
    "\n",
    "Q1 = df_sdc['Horsepower'].quantile(0.25)\n",
    "Q3 = df_sdc['Horsepower'].quantile(0.75)\n",
    "IQR = Q3 - Q1\n",
    "\n",
    "# Calculating lower and upper bounds for the detection of outlier\n",
    "bound_lower = Q1 - 1.5* IQR\n",
    "bound_upper = Q3 + 1.5* IQR\n",
    "\n",
    "# Printing the outlier values\n",
    "outlier = df_sdc[(df_sdc['Horsepower'] < bound_lower) | (df_sdc['Horsepower'] > bound_upper)]\n",
    "print(outlier)"
   ]
  },
  {
   "cell_type": "code",
   "execution_count": 190,
   "id": "c5d18d82",
   "metadata": {},
   "outputs": [
    {
     "name": "stdout",
     "output_type": "stream",
     "text": [
      "      MPG  Cylinders  Displacement  Horsepower  Weight  Acceleration  \\\n",
      "7    14.0          8         440.0         215    4312           8.5   \n",
      "9    15.0          8         390.0         190    3850           8.5   \n",
      "11   14.0          8         340.0         160    3609           8.0   \n",
      "59   23.0          4          97.0          54    2254          23.5   \n",
      "299  27.2          4         141.0          71    3190          24.8   \n",
      "326  43.4          4          90.0          48    2335          23.7   \n",
      "394  44.0          4          97.0          52    2130          24.6   \n",
      "\n",
      "     Model Year  US Made  \n",
      "7            70        1  \n",
      "9            70        1  \n",
      "11           70        1  \n",
      "59           72        0  \n",
      "299          79        0  \n",
      "326          80        0  \n",
      "394          82        0  \n"
     ]
    }
   ],
   "source": [
    "# Calculating IQR for \"Acceleration\" column\n",
    "\n",
    "Q1 = df_sdc['Acceleration'].quantile(0.25)\n",
    "Q3 = df_sdc['Acceleration'].quantile(0.75)\n",
    "IQR = Q3 - Q1\n",
    "\n",
    "# Calculating lower and upper bounds for the detection of outlier\n",
    "bound_lower = Q1 - 1.5* IQR\n",
    "bound_upper = Q3 + 1.5* IQR\n",
    "\n",
    "# Printing the outlier values\n",
    "outlier = df_sdc[(df_sdc['Acceleration'] < bound_lower) | (df_sdc['Acceleration'] > bound_upper)]\n",
    "print(outlier)"
   ]
  },
  {
   "cell_type": "code",
   "execution_count": 191,
   "id": "ebca39bc",
   "metadata": {},
   "outputs": [
    {
     "data": {
      "text/plain": [
       "<Axes: >"
      ]
     },
     "execution_count": 191,
     "metadata": {},
     "output_type": "execute_result"
    },
    {
     "data": {
      "image/png": "[encoded data removed]",
      "text/plain": [
       "<Figure size 640x480 with 2 Axes>"
      ]
     },
     "metadata": {},
     "output_type": "display_data"
    }
   ],
   "source": [
    "## Now checking correlation of the variables\n",
    "\n",
    "corr_sd = df_sdc.corr()\n",
    "\n",
    "sns.heatmap(corr_sd, cmap='RdBu_r', annot=True)"
   ]
  },
  {
   "cell_type": "markdown",
   "id": "080725f0",
   "metadata": {},
   "source": [
    "## Part 2 : Modelling"
   ]
  },
  {
   "cell_type": "code",
   "execution_count": 192,
   "id": "bd1b047c",
   "metadata": {},
   "outputs": [
    {
     "name": "stdout",
     "output_type": "stream",
     "text": [
      "      variables        VIF\n",
      "0     Cylinders  10.672769\n",
      "1  Displacement  22.967019\n",
      "2    Horsepower   9.455393\n",
      "3        Weight  10.526455\n",
      "4  Acceleration   2.555258\n",
      "5    Model Year   1.253558\n",
      "6       US Made   1.929796\n"
     ]
    }
   ],
   "source": [
    "## Using VIF to check the multicolinearity \n",
    "\n",
    "# Creating a DataFrame with independent variables\n",
    "X = df_sdc[['Cylinders', 'Displacement', 'Horsepower', 'Weight', 'Acceleration', 'Model Year', 'US Made']]\n",
    "\n",
    "# Scaling the independent variables\n",
    "scaler = StandardScaler()\n",
    "X_scaled = scaler.fit_transform(X)\n",
    "\n",
    "# Calculating VIF for each independent-variable\n",
    "\n",
    "VIF = pd.DataFrame()\n",
    "VIF[\"variables\"] = X.columns\n",
    "VIF[\"VIF\"] = [variance_inflation_factor(X_scaled, i) for i in range(X.shape[1])]\n",
    "\n",
    "# Viewing the results\n",
    "print(VIF)"
   ]
  },
  {
   "cell_type": "code",
   "execution_count": 193,
   "id": "e9140269",
   "metadata": {},
   "outputs": [
    {
     "name": "stdout",
     "output_type": "stream",
     "text": [
      "      variables       VIF\n",
      "0           MPG  4.060734\n",
      "1    Horsepower  4.210884\n",
      "2  Acceleration  2.044382\n",
      "3    Model Year  1.663215\n",
      "4       US Made  1.613268\n"
     ]
    }
   ],
   "source": [
    "## Dropping columns that have high VIF values (correlated).\n",
    "\n",
    "new_sdc = df_sdc.drop(['Cylinders','Displacement','Weight'],axis=1)\n",
    "\n",
    "# Creating DataFrame with independent variables\n",
    "\n",
    "X = new_sdc[['MPG', 'Horsepower', 'Acceleration', 'Model Year', 'US Made']]\n",
    "\n",
    "# Scaling independent variables\n",
    "scaler = StandardScaler()\n",
    "X_scaled = scaler.fit_transform(X)\n",
    "\n",
    "# Calculating VIF for each independent variable\n",
    "VIF = pd.DataFrame()\n",
    "VIF[\"variables\"] = X.columns\n",
    "VIF[\"VIF\"] = [variance_inflation_factor(X_scaled, i) for i in range(X.shape[1])]\n",
    "\n",
    "# View the results\n",
    "print(VIF)"
   ]
  },
  {
   "cell_type": "code",
   "execution_count": 194,
   "id": "79acde76",
   "metadata": {},
   "outputs": [],
   "source": [
    "\n",
    "# Creating DataFrame of independent variables\n",
    "X = new_sdc.drop('MPG',axis=1) \n",
    "# Creating a series of the dependent variable\n",
    "y = new_sdc.MPG   \n",
    "\n",
    "ss = StandardScaler()\n",
    "X_std = ss.fit_transform(X)\n",
    "\n",
    "#taking test size as 0.2\n",
    "X_train, X_test, y_train, y_test = train_test_split(X_std, y, test_size=0.2, random_state= 123)"
   ]
  },
  {
   "cell_type": "code",
   "execution_count": 195,
   "id": "ff4232c3",
   "metadata": {
    "scrolled": true
   },
   "outputs": [
    {
     "name": "stdout",
     "output_type": "stream",
     "text": [
      "X_train shape (318, 4)\n",
      "X_test shape (80, 4)\n",
      "y_train shape (318,)\n",
      "y_test shape (80,)\n"
     ]
    }
   ],
   "source": [
    "# printing the output\n",
    "\n",
    "print(\"X_train shape\",X_train.shape)\n",
    "print(\"X_test shape\",X_test.shape)\n",
    "print(\"y_train shape\",y_train.shape)\n",
    "print(\"y_test shape\",y_test.shape)"
   ]
  },
  {
   "cell_type": "code",
   "execution_count": 196,
   "id": "1d644c96",
   "metadata": {},
   "outputs": [
    {
     "name": "stdout",
     "output_type": "stream",
     "text": [
      "                            OLS Regression Results                            \n",
      "==============================================================================\n",
      "Dep. Variable:                    MPG   R-squared:                       0.767\n",
      "Model:                            OLS   Adj. R-squared:                  0.764\n",
      "Method:                 Least Squares   F-statistic:                     257.2\n",
      "Date:                Sun, 12 Nov 2023   Prob (F-statistic):           1.39e-97\n",
      "Time:                        20:58:19   Log-Likelihood:                -874.80\n",
      "No. Observations:                 318   AIC:                             1760.\n",
      "Df Residuals:                     313   BIC:                             1778.\n",
      "Df Model:                           4                                         \n",
      "Covariance Type:            nonrobust                                         \n",
      "==============================================================================\n",
      "                 coef    std err          t      P>|t|      [0.025      0.975]\n",
      "------------------------------------------------------------------------------\n",
      "const         23.5502      0.214    109.822      0.000      23.128      23.972\n",
      "x1            -4.5094      0.358    -12.579      0.000      -5.215      -3.804\n",
      "x2            -0.9862      0.308     -3.201      0.002      -1.593      -0.380\n",
      "x3             2.5539      0.238     10.721      0.000       2.085       3.023\n",
      "x4            -2.3521      0.254     -9.258      0.000      -2.852      -1.852\n",
      "==============================================================================\n",
      "Omnibus:                       17.396   Durbin-Watson:                   1.995\n",
      "Prob(Omnibus):                  0.000   Jarque-Bera (JB):               19.228\n",
      "Skew:                           0.524   Prob(JB):                     6.68e-05\n",
      "Kurtosis:                       3.596   Cond. No.                         3.12\n",
      "==============================================================================\n",
      "\n",
      "Notes:\n",
      "[1] Standard Errors assume that the covariance matrix of the errors is correctly specified.\n"
     ]
    }
   ],
   "source": [
    "# using OLS (Ordinary Least Squares) regression\n",
    "\n",
    "X2 = sm.add_constant(X_train)\n",
    "\n",
    "# creating ordinary least squares (OLS) regression model\n",
    "ols = sm.OLS(y_train,X2)\n",
    "result = ols.fit()\n",
    "print(result.summary())"
   ]
  },
  {
   "cell_type": "code",
   "execution_count": 197,
   "id": "a7c85a30",
   "metadata": {},
   "outputs": [
    {
     "data": {
      "text/html": [
       "<div>\n",
       "<style scoped>\n",
       "    .dataframe tbody tr th:only-of-type {\n",
       "        vertical-align: middle;\n",
       "    }\n",
       "\n",
       "    .dataframe tbody tr th {\n",
       "        vertical-align: top;\n",
       "    }\n",
       "\n",
       "    .dataframe thead th {\n",
       "        text-align: right;\n",
       "    }\n",
       "</style>\n",
       "<table border=\"1\" class=\"dataframe\">\n",
       "  <thead>\n",
       "    <tr style=\"text-align: right;\">\n",
       "      <th></th>\n",
       "      <th>MPG</th>\n",
       "      <th>Cylinders</th>\n",
       "      <th>Displacement</th>\n",
       "      <th>Horsepower</th>\n",
       "      <th>Weight</th>\n",
       "      <th>Acceleration</th>\n",
       "      <th>Model Year</th>\n",
       "      <th>US Made</th>\n",
       "    </tr>\n",
       "  </thead>\n",
       "  <tbody>\n",
       "    <tr>\n",
       "      <th>0</th>\n",
       "      <td>18.0</td>\n",
       "      <td>8</td>\n",
       "      <td>307.0</td>\n",
       "      <td>130</td>\n",
       "      <td>3504</td>\n",
       "      <td>12.0</td>\n",
       "      <td>70</td>\n",
       "      <td>1</td>\n",
       "    </tr>\n",
       "    <tr>\n",
       "      <th>1</th>\n",
       "      <td>15.0</td>\n",
       "      <td>8</td>\n",
       "      <td>350.0</td>\n",
       "      <td>165</td>\n",
       "      <td>3693</td>\n",
       "      <td>11.5</td>\n",
       "      <td>70</td>\n",
       "      <td>1</td>\n",
       "    </tr>\n",
       "    <tr>\n",
       "      <th>2</th>\n",
       "      <td>18.0</td>\n",
       "      <td>8</td>\n",
       "      <td>318.0</td>\n",
       "      <td>150</td>\n",
       "      <td>3436</td>\n",
       "      <td>11.0</td>\n",
       "      <td>70</td>\n",
       "      <td>1</td>\n",
       "    </tr>\n",
       "    <tr>\n",
       "      <th>3</th>\n",
       "      <td>16.0</td>\n",
       "      <td>8</td>\n",
       "      <td>304.0</td>\n",
       "      <td>150</td>\n",
       "      <td>3433</td>\n",
       "      <td>12.0</td>\n",
       "      <td>70</td>\n",
       "      <td>1</td>\n",
       "    </tr>\n",
       "    <tr>\n",
       "      <th>4</th>\n",
       "      <td>17.0</td>\n",
       "      <td>8</td>\n",
       "      <td>302.0</td>\n",
       "      <td>140</td>\n",
       "      <td>3449</td>\n",
       "      <td>10.5</td>\n",
       "      <td>70</td>\n",
       "      <td>1</td>\n",
       "    </tr>\n",
       "  </tbody>\n",
       "</table>\n",
       "</div>"
      ],
      "text/plain": [
       "    MPG  Cylinders  Displacement  Horsepower  Weight  Acceleration  \\\n",
       "0  18.0          8         307.0         130    3504          12.0   \n",
       "1  15.0          8         350.0         165    3693          11.5   \n",
       "2  18.0          8         318.0         150    3436          11.0   \n",
       "3  16.0          8         304.0         150    3433          12.0   \n",
       "4  17.0          8         302.0         140    3449          10.5   \n",
       "\n",
       "   Model Year  US Made  \n",
       "0          70        1  \n",
       "1          70        1  \n",
       "2          70        1  \n",
       "3          70        1  \n",
       "4          70        1  "
      ]
     },
     "execution_count": 197,
     "metadata": {},
     "output_type": "execute_result"
    }
   ],
   "source": [
    "# copying\n",
    "\n",
    "df_sdc2 = df_sdc\n",
    "df_sdc2.head()"
   ]
  },
  {
   "cell_type": "code",
   "execution_count": 198,
   "id": "37a07ab9",
   "metadata": {},
   "outputs": [],
   "source": [
    "# Creating DataFrame of independent variables\n",
    "X = df_sdc2.drop('MPG',axis=1) \n",
    "# Creating a series of the dependent variable\n",
    "y = df_sdc2.MPG   \n",
    "\n",
    "ss = StandardScaler()\n",
    "X_std = ss.fit_transform(X)\n",
    "\n",
    "#taking test size as 0.2\n",
    "X_train, X_test, y_train, y_test = train_test_split(X_std, y, test_size=0.2, random_state= 123)"
   ]
  },
  {
   "cell_type": "code",
   "execution_count": 199,
   "id": "f3ebee03",
   "metadata": {},
   "outputs": [
    {
     "name": "stdout",
     "output_type": "stream",
     "text": [
      "X_train shape (318, 7)\n",
      "X_test shape (80, 7)\n",
      "y_train shape (318,)\n",
      "y_test shape (80,)\n"
     ]
    }
   ],
   "source": [
    "# printing the output\n",
    "\n",
    "print(\"X_train shape\",X_train.shape)\n",
    "print(\"X_test shape\",X_test.shape)\n",
    "print(\"y_train shape\",y_train.shape)\n",
    "print(\"y_test shape\",y_test.shape)"
   ]
  },
  {
   "cell_type": "code",
   "execution_count": 200,
   "id": "be3e06c8",
   "metadata": {},
   "outputs": [
    {
     "name": "stdout",
     "output_type": "stream",
     "text": [
      "                            OLS Regression Results                            \n",
      "==============================================================================\n",
      "Dep. Variable:                    MPG   R-squared:                       0.833\n",
      "Model:                            OLS   Adj. R-squared:                  0.830\n",
      "Method:                 Least Squares   F-statistic:                     221.4\n",
      "Date:                Sun, 12 Nov 2023   Prob (F-statistic):          1.48e-116\n",
      "Time:                        20:58:47   Log-Likelihood:                -821.40\n",
      "No. Observations:                 318   AIC:                             1659.\n",
      "Df Residuals:                     310   BIC:                             1689.\n",
      "Df Model:                           7                                         \n",
      "Covariance Type:            nonrobust                                         \n",
      "==============================================================================\n",
      "                 coef    std err          t      P>|t|      [0.025      0.975]\n",
      "------------------------------------------------------------------------------\n",
      "const         23.5508      0.182    129.282      0.000      23.192      23.909\n",
      "x1            -0.7273      0.582     -1.249      0.213      -1.873       0.419\n",
      "x2             2.6203      0.911      2.875      0.004       0.827       4.413\n",
      "x3             0.1030      0.591      0.174      0.862      -1.061       1.267\n",
      "x4            -6.1376      0.639     -9.601      0.000      -7.395      -4.880\n",
      "x5             0.6649      0.303      2.195      0.029       0.069       1.261\n",
      "x6             2.9135      0.206     14.142      0.000       2.508       3.319\n",
      "x7            -1.6709      0.254     -6.573      0.000      -2.171      -1.171\n",
      "==============================================================================\n",
      "Omnibus:                       17.242   Durbin-Watson:                   1.959\n",
      "Prob(Omnibus):                  0.000   Jarque-Bera (JB):               27.927\n",
      "Skew:                           0.355   Prob(JB):                     8.62e-07\n",
      "Kurtosis:                       4.266   Cond. No.                         12.6\n",
      "==============================================================================\n",
      "\n",
      "Notes:\n",
      "[1] Standard Errors assume that the covariance matrix of the errors is correctly specified.\n"
     ]
    }
   ],
   "source": [
    "# using OLS (Ordinary Least Squares) regression\n",
    "\n",
    "X2 = sm.add_constant(X_train)\n",
    "\n",
    "# creating ordinary least squares (OLS) regression model\n",
    "ols = sm.OLS(y_train,X2)\n",
    "result = ols.fit()\n",
    "print(result.summary())"
   ]
  },
  {
   "cell_type": "markdown",
   "id": "6de8af15",
   "metadata": {},
   "source": [
    "## Part 3 : Model Optimization "
   ]
  },
  {
   "cell_type": "code",
   "execution_count": 201,
   "id": "1a3c6b71",
   "metadata": {},
   "outputs": [],
   "source": [
    "## Now performing Forward feature selector\n",
    "\n",
    "from mlxtend.feature_selection import SequentialFeatureSelector"
   ]
  },
  {
   "cell_type": "code",
   "execution_count": 202,
   "id": "21a1388c",
   "metadata": {},
   "outputs": [],
   "source": [
    "# Separating target variable and independent variables\n",
    "\n",
    "X = df_sdc2.drop(['MPG'], axis=1)\n",
    "y = df_sdc2['MPG']\n",
    "\n",
    "# Split the data into train and test sets\n",
    "X_train, X_test, y_train, y_test = train_test_split(X, y, test_size=0.2, random_state=40)"
   ]
  },
  {
   "cell_type": "code",
   "execution_count": 203,
   "id": "28e0b54e",
   "metadata": {},
   "outputs": [
    {
     "data": {
      "text/plain": [
       "(318, 7)"
      ]
     },
     "execution_count": 203,
     "metadata": {},
     "output_type": "execute_result"
    }
   ],
   "source": [
    "from sklearn.ensemble import RandomForestRegressor\n",
    "\n",
    "# checking the shape \n",
    "X_train.shape"
   ]
  },
  {
   "cell_type": "code",
   "execution_count": 204,
   "id": "0d7e3cda",
   "metadata": {},
   "outputs": [
    {
     "data": {
      "text/plain": [
       "('Displacement', 'Horsepower', 'Weight', 'Acceleration', 'Model Year')"
      ]
     },
     "execution_count": 204,
     "metadata": {},
     "output_type": "execute_result"
    }
   ],
   "source": [
    "# feature selection using a Sequential Forward Selection (SFS) approach\n",
    "## Using RandomForestRegressor for forward selection (with 5 features)\n",
    "estimator_ran = RandomForestRegressor(n_estimators=100, random_state= 40)\n",
    "\n",
    "# Applying Sequential Feature Selector (SFS)\n",
    "sfs = SequentialFeatureSelector(estimator_ran, forward = True, k_features= 5).fit(X_train,y_train)\n",
    "\n",
    "sfs.k_feature_names_"
   ]
  },
  {
   "cell_type": "code",
   "execution_count": 205,
   "id": "ef9a800b",
   "metadata": {},
   "outputs": [
    {
     "name": "stdout",
     "output_type": "stream",
     "text": [
      "                            OLS Regression Results                            \n",
      "==============================================================================\n",
      "Dep. Variable:                    MPG   R-squared:                       0.800\n",
      "Model:                            OLS   Adj. R-squared:                  0.797\n",
      "Method:                 Least Squares   F-statistic:                     249.6\n",
      "Date:                Sun, 12 Nov 2023   Prob (F-statistic):          9.53e-107\n",
      "Time:                        20:59:38   Log-Likelihood:                -845.51\n",
      "No. Observations:                 318   AIC:                             1703.\n",
      "Df Residuals:                     312   BIC:                             1726.\n",
      "Df Model:                           5                                         \n",
      "Covariance Type:            nonrobust                                         \n",
      "================================================================================\n",
      "                   coef    std err          t      P>|t|      [0.025      0.975]\n",
      "--------------------------------------------------------------------------------\n",
      "const          -17.3679      5.324     -3.262      0.001     -27.843      -6.893\n",
      "Displacement     0.0059      0.006      0.955      0.340      -0.006       0.018\n",
      "Horsepower       0.0040      0.016      0.253      0.800      -0.027       0.035\n",
      "Weight          -0.0074      0.001     -9.137      0.000      -0.009      -0.006\n",
      "Acceleration     0.1277      0.119      1.074      0.284      -0.106       0.362\n",
      "Model Year       0.7787      0.059     13.257      0.000       0.663       0.894\n",
      "==============================================================================\n",
      "Omnibus:                       31.951   Durbin-Watson:                   2.093\n",
      "Prob(Omnibus):                  0.000   Jarque-Bera (JB):               50.261\n",
      "Skew:                           0.636   Prob(JB):                     1.22e-11\n",
      "Kurtosis:                       4.475   Cond. No.                     8.45e+04\n",
      "==============================================================================\n",
      "\n",
      "Notes:\n",
      "[1] Standard Errors assume that the covariance matrix of the errors is correctly specified.\n",
      "[2] The condition number is large, 8.45e+04. This might indicate that there are\n",
      "strong multicollinearity or other numerical problems.\n"
     ]
    }
   ],
   "source": [
    "# Now Newly Optimized data\n",
    "# dropping unwanted variables\n",
    "df_sdc_opt = df_sdc.drop([ 'Cylinders', 'US Made'], axis =1)\n",
    "\n",
    "# Linear Regression Model for the newly optimized data.\n",
    "X = df_sdc_opt.drop(['MPG'], axis=1)\n",
    "y = df_sdc_opt['MPG']\n",
    "\n",
    "# Splitting the data into train and the test sets (test size as  0.2)\n",
    "X_train, X_test, y_train, y_test = train_test_split(X, y, test_size=0.2, random_state=40)\n",
    "\n",
    "X2 = sm.add_constant(X_train)\n",
    "ols = sm.OLS(y_train,X2)\n",
    "result = ols.fit()\n",
    "print(result.summary())"
   ]
  },
  {
   "cell_type": "code",
   "execution_count": 206,
   "id": "9a724783",
   "metadata": {},
   "outputs": [
    {
     "data": {
      "text/plain": [
       "('Horsepower', 'Weight', 'Acceleration', 'Model Year')"
      ]
     },
     "execution_count": 206,
     "metadata": {},
     "output_type": "execute_result"
    }
   ],
   "source": [
    "# feature selection using a Sequential Forward Selection (SFS) approach\n",
    "## Using RandomForestRegressor for forward selection (with 4 features)\n",
    "estimator_ran = RandomForestRegressor(n_estimators=100, random_state= 40)\n",
    "\n",
    "# Applying Sequential Feature Selector (SFS)\n",
    "sfs = SequentialFeatureSelector(estimator_ran, forward = True, k_features= 4).fit(X_train,y_train)\n",
    "\n",
    "sfs.k_feature_names_"
   ]
  },
  {
   "cell_type": "code",
   "execution_count": 207,
   "id": "aff2fa78",
   "metadata": {},
   "outputs": [
    {
     "name": "stdout",
     "output_type": "stream",
     "text": [
      "                            OLS Regression Results                            \n",
      "==============================================================================\n",
      "Dep. Variable:                    MPG   R-squared:                       0.799\n",
      "Model:                            OLS   Adj. R-squared:                  0.797\n",
      "Method:                 Least Squares   F-statistic:                     311.9\n",
      "Date:                Sun, 12 Nov 2023   Prob (F-statistic):          7.98e-108\n",
      "Time:                        21:00:07   Log-Likelihood:                -845.97\n",
      "No. Observations:                 318   AIC:                             1702.\n",
      "Df Residuals:                     313   BIC:                             1721.\n",
      "Df Model:                           4                                         \n",
      "Covariance Type:            nonrobust                                         \n",
      "================================================================================\n",
      "                   coef    std err          t      P>|t|      [0.025      0.975]\n",
      "--------------------------------------------------------------------------------\n",
      "const          -17.2705      5.322     -3.245      0.001     -27.742      -6.799\n",
      "Horsepower       0.0062      0.016      0.393      0.694      -0.025       0.037\n",
      "Weight          -0.0068      0.001    -12.344      0.000      -0.008      -0.006\n",
      "Acceleration     0.1041      0.116      0.895      0.371      -0.125       0.333\n",
      "Model Year       0.7723      0.058     13.236      0.000       0.657       0.887\n",
      "==============================================================================\n",
      "Omnibus:                       33.883   Durbin-Watson:                   2.094\n",
      "Prob(Omnibus):                  0.000   Jarque-Bera (JB):               54.328\n",
      "Skew:                           0.661   Prob(JB):                     1.60e-12\n",
      "Kurtosis:                       4.533   Cond. No.                     8.43e+04\n",
      "==============================================================================\n",
      "\n",
      "Notes:\n",
      "[1] Standard Errors assume that the covariance matrix of the errors is correctly specified.\n",
      "[2] The condition number is large, 8.43e+04. This might indicate that there are\n",
      "strong multicollinearity or other numerical problems.\n"
     ]
    }
   ],
   "source": [
    "# Now Newly Optimized data\n",
    "# dropping unwanted variables\n",
    "df_sdc_opt = df_sdc.drop([ 'Cylinders','Displacement', 'US Made'], axis =1)\n",
    "\n",
    "# Linear Regression Model for the newly optimized data.\n",
    "X = df_sdc_opt.drop(['MPG'], axis=1)\n",
    "y = df_sdc_opt['MPG']\n",
    "\n",
    "# Splitting the data into train and the test sets (test size as  0.2)\n",
    "X_train, X_test, y_train, y_test = train_test_split(X, y, test_size=0.2, random_state=40)\n",
    "\n",
    "X2 = sm.add_constant(X_train)\n",
    "ols = sm.OLS(y_train,X2)\n",
    "result = ols.fit()\n",
    "print(result.summary())"
   ]
  },
  {
   "cell_type": "code",
   "execution_count": 208,
   "id": "ed068672",
   "metadata": {},
   "outputs": [
    {
     "data": {
      "text/plain": [
       "('Horsepower', 'Weight', 'Model Year')"
      ]
     },
     "execution_count": 208,
     "metadata": {},
     "output_type": "execute_result"
    }
   ],
   "source": [
    "# feature selection using a Sequential Forward Selection (SFS) approach\n",
    "## Using RandomForestRegressor for forward selection (with 3 features)\n",
    "estimator_ran = RandomForestRegressor(n_estimators=100, random_state= 40)\n",
    "\n",
    "# Applying Sequential Feature Selector (SFS)\n",
    "sfs = SequentialFeatureSelector(estimator_ran, forward = True, k_features= 3).fit(X_train,y_train)\n",
    "\n",
    "sfs.k_feature_names_"
   ]
  },
  {
   "cell_type": "code",
   "execution_count": 209,
   "id": "1b706739",
   "metadata": {},
   "outputs": [
    {
     "name": "stdout",
     "output_type": "stream",
     "text": [
      "                            OLS Regression Results                            \n",
      "==============================================================================\n",
      "Dep. Variable:                    MPG   R-squared:                       0.799\n",
      "Model:                            OLS   Adj. R-squared:                  0.797\n",
      "Method:                 Least Squares   F-statistic:                     415.9\n",
      "Date:                Sun, 12 Nov 2023   Prob (F-statistic):          5.37e-109\n",
      "Time:                        21:00:31   Log-Likelihood:                -846.38\n",
      "No. Observations:                 318   AIC:                             1701.\n",
      "Df Residuals:                     314   BIC:                             1716.\n",
      "Df Model:                           3                                         \n",
      "Covariance Type:            nonrobust                                         \n",
      "==============================================================================\n",
      "                 coef    std err          t      P>|t|      [0.025      0.975]\n",
      "------------------------------------------------------------------------------\n",
      "const        -14.9432      4.642     -3.219      0.001     -24.077      -5.810\n",
      "Horsepower    -0.0038      0.011     -0.343      0.732      -0.026       0.018\n",
      "Weight        -0.0066      0.000    -13.708      0.000      -0.008      -0.006\n",
      "Model Year     0.7670      0.058     13.217      0.000       0.653       0.881\n",
      "==============================================================================\n",
      "Omnibus:                       37.272   Durbin-Watson:                   2.088\n",
      "Prob(Omnibus):                  0.000   Jarque-Bera (JB):               62.693\n",
      "Skew:                           0.699   Prob(JB):                     2.43e-14\n",
      "Kurtosis:                       4.667   Cond. No.                     7.35e+04\n",
      "==============================================================================\n",
      "\n",
      "Notes:\n",
      "[1] Standard Errors assume that the covariance matrix of the errors is correctly specified.\n",
      "[2] The condition number is large, 7.35e+04. This might indicate that there are\n",
      "strong multicollinearity or other numerical problems.\n"
     ]
    }
   ],
   "source": [
    "# Now Newly Optimized data\n",
    "# dropping unwanted variables\n",
    "df_sdc_opt = df_sdc.drop([ 'Cylinders','Displacement', 'Acceleration','US Made'], axis =1)\n",
    "\n",
    "# Linear Regression Model for the newly optimized data.\n",
    "X = df_sdc_opt.drop(['MPG'], axis=1)\n",
    "y = df_sdc_opt['MPG']\n",
    "\n",
    "# Splitting the data into train and the test sets (test size as  0.2)\n",
    "X_train, X_test, y_train, y_test = train_test_split(X, y, test_size=0.2, random_state=40)\n",
    "\n",
    "X2 = sm.add_constant(X_train)\n",
    "ols = sm.OLS(y_train,X2)\n",
    "result = ols.fit()\n",
    "print(result.summary())"
   ]
  },
  {
   "cell_type": "code",
   "execution_count": 210,
   "id": "577c93a5",
   "metadata": {},
   "outputs": [
    {
     "data": {
      "text/plain": [
       "('Horsepower', 'Model Year')"
      ]
     },
     "execution_count": 210,
     "metadata": {},
     "output_type": "execute_result"
    }
   ],
   "source": [
    "# feature selection using a Sequential Forward Selection (SFS) approach\n",
    "## Using RandomForestRegressor for forward selection (with 2 features)\n",
    "estimator_ran = RandomForestRegressor(n_estimators=100, random_state= 40)\n",
    "\n",
    "# Applying Sequential Feature Selector (SFS)\n",
    "sfs = SequentialFeatureSelector(estimator_ran, forward = True, k_features= 2).fit(X_train,y_train)\n",
    "\n",
    "sfs.k_feature_names_"
   ]
  },
  {
   "cell_type": "code",
   "execution_count": 211,
   "id": "f91f441f",
   "metadata": {},
   "outputs": [
    {
     "name": "stdout",
     "output_type": "stream",
     "text": [
      "                            OLS Regression Results                            \n",
      "==============================================================================\n",
      "Dep. Variable:                    MPG   R-squared:                       0.645\n",
      "Model:                            OLS   Adj. R-squared:                  0.643\n",
      "Method:                 Least Squares   F-statistic:                     286.7\n",
      "Date:                Sun, 12 Nov 2023   Prob (F-statistic):           1.20e-71\n",
      "Time:                        21:01:03   Log-Likelihood:                -936.57\n",
      "No. Observations:                 318   AIC:                             1879.\n",
      "Df Residuals:                     315   BIC:                             1890.\n",
      "Df Model:                           2                                         \n",
      "Covariance Type:            nonrobust                                         \n",
      "================================================================================\n",
      "                   coef    std err          t      P>|t|      [0.025      0.975]\n",
      "--------------------------------------------------------------------------------\n",
      "const           37.6740      0.843     44.694      0.000      36.016      39.333\n",
      "Displacement    -0.0384      0.005     -7.066      0.000      -0.049      -0.028\n",
      "Horsepower      -0.0650      0.015     -4.331      0.000      -0.095      -0.035\n",
      "==============================================================================\n",
      "Omnibus:                       29.994   Durbin-Watson:                   2.146\n",
      "Prob(Omnibus):                  0.000   Jarque-Bera (JB):               36.500\n",
      "Skew:                           0.736   Prob(JB):                     1.19e-08\n",
      "Kurtosis:                       3.765   Cond. No.                         797.\n",
      "==============================================================================\n",
      "\n",
      "Notes:\n",
      "[1] Standard Errors assume that the covariance matrix of the errors is correctly specified.\n"
     ]
    }
   ],
   "source": [
    "# Now Newly Optimized data\n",
    "# dropping unwanted variables\n",
    "df_sdc_opt = df_sdc.drop([ 'Cylinders','Weight', 'Acceleration','Model Year','US Made'], axis =1)\n",
    "\n",
    "# Linear Regression Model for the newly optimized data.\n",
    "X = df_sdc_opt.drop(['MPG'], axis=1)\n",
    "y = df_sdc_opt['MPG']\n",
    "\n",
    "# Splitting the data into train and the test sets (test size as  0.2)\n",
    "X_train, X_test, y_train, y_test = train_test_split(X, y, test_size=0.2, random_state=40)\n",
    "\n",
    "X2 = sm.add_constant(X_train)\n",
    "ols = sm.OLS(y_train,X2)\n",
    "result = ols.fit()\n",
    "print(result.summary())"
   ]
  },
  {
   "cell_type": "code",
   "execution_count": null,
   "id": "4632fe37",
   "metadata": {},
   "outputs": [],
   "source": []
  }
 ],
 "metadata": {
  "kernelspec": {
   "display_name": "Python 3 (ipykernel)",
   "language": "python",
   "name": "python3"
  },
  "language_info": {
   "codemirror_mode": {
    "name": "ipython",
    "version": 3
   },
   "file_extension": ".py",
   "mimetype": "text/x-python",
   "name": "python",
   "nbconvert_exporter": "python",
   "pygments_lexer": "ipython3",
   "version": "3.11.4"
  }
 },
 "nbformat": 4,
 "nbformat_minor": 5
}
